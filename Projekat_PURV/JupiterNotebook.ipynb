{
 "cells": [
  {
   "cell_type": "markdown",
   "id": "a13980b3",
   "metadata": {},
   "source": [
    "The function used to read the recorded csv file\n"
   ]
  },
  {
   "cell_type": "code",
   "execution_count": 5,
   "id": "563a6033",
   "metadata": {},
   "outputs": [],
   "source": [
    "%matplotlib notebook\n",
    "import csv\n",
    "import matplotlib.pyplot as plt\n",
    "import sys\n",
    "\n",
    "def read_servo_data_from_csv(filename):\n",
    "    data = {'Step': [], 'Servo1': [], 'Servo2': []}\n",
    "    with open(filename, 'r') as csvfile:\n",
    "        reader = csv.DictReader(csvfile)\n",
    "        for row in reader:\n",
    "            data['Step'].append(int(row['Step']))\n",
    "            data['Servo1'].append(int(row['Servo1']))\n",
    "            data['Servo2'].append(int(row['Servo2']))\n",
    "    return data\n",
    "\n",
    "\n",
    "    \n",
    "    \n",
    "    \n",
    "\n"
   ]
  },
  {
   "cell_type": "markdown",
   "id": "48ac8d19",
   "metadata": {},
   "source": [
    " The function used to plot the data read from the csv file"
   ]
  },
  {
   "cell_type": "code",
   "execution_count": 6,
   "id": "a5ffb6dc",
   "metadata": {},
   "outputs": [],
   "source": [
    "  \n",
    "def plot_servo_movements(data):\n",
    "    plt.figure()\n",
    "    plt.plot(data['Step'], data['Servo1'], label='Servo1', marker='o', linestyle='-', color='b')\n",
    "    plt.plot(data['Step'], data['Servo2'], label='Servo2', marker='x', linestyle='-', color='r')\n",
    "    plt.title(\"Servo Movements\")\n",
    "    plt.xlabel(\"Step\")\n",
    "    plt.ylabel(\"Angle\")\n",
    "    plt.legend()\n",
    "    plt.grid(True)\n",
    "    plt.show()"
   ]
  },
  {
   "cell_type": "code",
   "execution_count": 7,
   "id": "598de813",
   "metadata": {
    "scrolled": true
   },
   "outputs": [],
   "source": [
    "plot_servo_movements(read_servo_data_from_csv(\"record_servo_movements.csv\"))\n",
    "\n"
   ]
  },
  {
   "cell_type": "code",
   "execution_count": null,
   "id": "b10b83a8",
   "metadata": {},
   "outputs": [],
   "source": []
  },
  {
   "cell_type": "code",
   "execution_count": null,
   "id": "86ee4572",
   "metadata": {},
   "outputs": [],
   "source": []
  }
 ],
 "metadata": {
  "kernelspec": {
   "display_name": "Python 3 (ipykernel)",
   "language": "python",
   "name": "python3"
  },
  "language_info": {
   "codemirror_mode": {
    "name": "ipython",
    "version": 3
   },
   "file_extension": ".py",
   "mimetype": "text/x-python",
   "name": "python",
   "nbconvert_exporter": "python",
   "pygments_lexer": "ipython3",
   "version": "3.9.13"
  }
 },
 "nbformat": 4,
 "nbformat_minor": 5
}
